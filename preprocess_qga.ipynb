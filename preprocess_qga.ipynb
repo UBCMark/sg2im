{
 "cells": [
  {
   "cell_type": "code",
   "execution_count": 1,
   "metadata": {},
   "outputs": [],
   "source": [
    "import json\n",
    "from itertools import chain\n",
    "from collections import defaultdict, Counter\n",
    "import numpy as np\n",
    "import matplotlib.pyplot as plt"
   ]
  },
  {
   "cell_type": "code",
   "execution_count": 4,
   "metadata": {},
   "outputs": [
    {
     "name": "stdout",
     "output_type": "stream",
     "text": [
      "total number of ImageId :  85638\n",
      "Found 76 attribute categories with >= 1000 training instances\n",
      "[('white', 105812), ('black', 68188), ('green', 50818), ('blue', 49490), ('brown', 39639), ('red', 30157), ('gray', 25473), ('large', 22254), ('small', 18473), ('wood', 17224), ('yellow', 17150), ('tall', 11773), ('metal', 11624), ('orange', 11403), ('long', 9430), ('dark', 9142), ('silver', 9121), ('pink', 8265), ('standing', 7289), ('clear', 7263), ('round', 5861), ('glass', 5676), ('open', 5564), ('short', 4879), ('sitting', 4854), ('parked', 4780), ('plastic', 4325), ('walking', 4272), ('brick', 4034), ('tan', 3870), ('purple', 3710), ('striped', 3462), ('colorful', 2994), ('cloudy', 2899), ('concrete', 2808), ('hanging', 2773), ('bare', 2635), ('blond', 2618), ('young', 2567), ('empty', 2556), ('old', 2423), ('baseball', 2411), ('closed', 2381), ('happy', 2127), ('bright', 2048), ('wet', 2021), ('gold', 1978), ('smiling', 1942), ('stone', 1933), ('light', 1760), ('dirty', 1664), ('flying', 1639), ('shiny', 1635), ('on', 1574), ('square', 1568), ('thin', 1552), ('little', 1514), ('tennis', 1510), ('playing', 1446), ('leafy', 1444), ('sliced', 1433), ('thick', 1414), ('beige', 1348), ('calm', 1343), ('rectangular', 1334), ('dry', 1319), ('tiled', 1249), ('leather', 1202), ('snowy', 1127), ('lying', 1123), ('painted', 1122), ('pointy', 1118), ('eating', 1100), ('paved', 1038), ('fluffy', 1011), ('clean', 1003), ('plaid', 992), ('cooked', 984), ('electric', 977), ('grassy', 971), ('stacked', 937), ('full', 917), ('covered', 916), ('framed', 855), ('lit', 852), ('paper', 850), ('curved', 832), ('blurry', 824), ('grazing', 819), ('leafless', 805), ('light brown', 801), ('flat', 799), ('skiing', 797), ('surfing', 766), ('decorative', 761), ('beautiful', 761), ('up', 747), ('sandy', 722), ('chain-link', 715), ('folded', 709), ('arched', 705), ('steel', 693), ('overcast', 685), ('wide', 681), ('stainless steel', 676), ('running', 674), ('ceramic', 672), ('waiting', 664), ('rusty', 652), ('cut', 648), ('furry', 635), ('long sleeved', 633), ('short sleeved', 627), ('ripe', 612), ('light blue', 605), ('checkered', 605), ('down', 603), ('dark brown', 600), ('hazy', 599), ('high', 585), ('cloudless', 585), ('fresh', 580), ('tiny', 579), ('chocolate', 576), ('cream colored', 568), ('baby', 559), ('worn', 557), ('huge', 557)]\n"
     ]
    },
    {
     "data": {
      "image/png": "[encoded data removed]",
      "text/plain": [
       "<matplotlib.figure.Figure at 0x7f0309a4ff60>"
      ]
     },
     "metadata": {},
     "output_type": "display_data"
    }
   ],
   "source": [
    "def json_load(file_dir):\n",
    "    with open(file_dir, 'r') as f:\n",
    "        data = json.load(f)\n",
    "    return data\n",
    "\n",
    "def json_save(data, file_dir):\n",
    "    with open(file_dir, 'w') as f:\n",
    "        json.dump(data, f)\n",
    "\n",
    "def get_object_id(graph):\n",
    "    # input graph : dictionary\n",
    "    # return object id :  dictionary\n",
    "    #   key : Object Id, value : Object Name\n",
    "    object_dict = {}\n",
    "    for imgID in graph.keys():\n",
    "        image = graph[imgID]\n",
    "        objects = image[\"objects\"]\n",
    "        for object_id in objects.keys():\n",
    "            object_name = objects[object_id][\"name\"]\n",
    "            object_dict[object_id] = object_name\n",
    "\n",
    "    return object_dict\n",
    "\n",
    "def get_whole_relation_graph(graph, id_dict):\n",
    "    ##### input\n",
    "    # graph : dictionary\n",
    "    # id_dict : dictionary\n",
    "    ##### output\n",
    "    # relation_dict : dictionary\n",
    "    #   key : object name\n",
    "    #   value : dictionary\n",
    "    #               key : target object name\n",
    "    #               value : relation name\n",
    "    relation_dict = {}\n",
    "    attribute_name_counter = Counter()\n",
    "    for imgID in graph.keys():\n",
    "        img = graph[imgID]\n",
    "        objects = img[\"objects\"]\n",
    "        for object_id in objects.keys():\n",
    "            source_name = objects[object_id][\"name\"]\n",
    "            relation_candidate = objects[object_id][\"relations\"]        # list [ {\"object\" : \"name\"} , { \"object\" : \"name\" } ,  ..... ]\n",
    "\n",
    "            # for candidate in relation_candidate:\n",
    "            #     target_id = candidate[\"object\"]\n",
    "            #     target_name = id_dict[target_id]\n",
    "            #     relation =  candidate[\"name\"]\n",
    "            #\n",
    "            #     # if there is no key value, add it.\n",
    "            #     if source_name not in relation_dict.keys():\n",
    "            #         relation_dict[source_name] = defaultdict(list)\n",
    "            #\n",
    "            #     #\n",
    "            #     relation_dict[source_name][target_name].append(relation)\n",
    "            #     relation_dict[source_name][target_name] = list(set(relation_dict[source_name][target_name]))\n",
    "            names = set()\n",
    "            for name in objects[object_id][\"attributes\"]:\n",
    "                names.add(name.strip(' .').lower())\n",
    "            attribute_name_counter.update(names)\n",
    "\n",
    "    attribute_names = []\n",
    "    min_attribute_instances = 1000\n",
    "    for v, (name, count) in enumerate(attribute_name_counter.most_common()):\n",
    "        if count >= min_attribute_instances and v < 128:\n",
    "            attribute_names.append(name)\n",
    "    print('Found %d attribute categories with >= %d training instances' %\n",
    "          (len(attribute_names), min_attribute_instances))\n",
    "\n",
    "    attribute_name_to_idx = {}\n",
    "    attribute_idx_to_name = []\n",
    "    for idx, name in enumerate(attribute_names):\n",
    "        attribute_name_to_idx[name] = idx\n",
    "        attribute_idx_to_name.append(name)\n",
    "\n",
    "    print(attribute_name_counter.most_common(128))\n",
    "    labels, values = zip(*attribute_name_counter.most_common(128))\n",
    "\n",
    "    indexes = np.arange(len(labels))\n",
    "    width = 1\n",
    "\n",
    "    plt.bar(indexes, values, width)\n",
    "    plt.xticks(indexes + width * 0.5, labels)\n",
    "    plt.show()\n",
    "\n",
    "\n",
    "    return attribute_name_counter\n",
    "\n",
    "if __name__ == '__main__':\n",
    "    # 1. graph data load\n",
    "    graph_data = {}\n",
    "    train_graph = json_load('../sg2im/data/sceneGraphs/train_sceneGraphs.json')\n",
    "    val_graph = json_load('../sg2im/data/sceneGraphs/val_sceneGraphs.json')\n",
    "\n",
    "    graph_data.update(val_graph)\n",
    "    graph_data.update(train_graph)  #최종적으로 train_graph 기준으로 dictionary가 update가 된다.\n",
    "\n",
    "    print('total number of ImageId : ', len(list(graph_data.keys())))\n",
    "\n",
    "    # 2. Collect object name and id -> dictionary ( key : ObjectID , value : Object Name )\n",
    "    object_id_dict = get_object_id(train_graph)\n",
    "\n",
    "    # 3. Object , relation, target 으로 dictionary 만들기.\n",
    "    relation_graph = get_whole_relation_graph(graph_data, object_id_dict)"
   ]
  },
  {
   "cell_type": "code",
   "execution_count": null,
   "metadata": {},
   "outputs": [],
   "source": []
  }
 ],
 "metadata": {
  "kernelspec": {
   "display_name": "Python 3",
   "language": "python",
   "name": "python3"
  },
  "language_info": {
   "codemirror_mode": {
    "name": "ipython",
    "version": 3
   },
   "file_extension": ".py",
   "mimetype": "text/x-python",
   "name": "python",
   "nbconvert_exporter": "python",
   "pygments_lexer": "ipython3",
   "version": "3.6.6"
  }
 },
 "nbformat": 4,
 "nbformat_minor": 2
}
